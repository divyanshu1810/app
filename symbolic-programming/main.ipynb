{
  "cells": [
    {
      "cell_type": "code",
      "execution_count": 11,
      "metadata": {
        "colab": {
          "base_uri": "https://localhost:8080/",
          "height": 37
        },
        "id": "A3xdwfCzzgjJ",
        "outputId": "65acb902-bd84-4172-ce2d-7acd229f6386"
      },
      "outputs": [
        {
          "data": {
            "text/latex": [
              "$\\displaystyle 1.414213562373095048801688724209698078569671875376948073176679737990732478462107038850387534327641573$"
            ],
            "text/plain": [
              "1.414213562373095048801688724209698078569671875376948073176679737990732478462107038850387534327641573"
            ]
          },
          "execution_count": 11,
          "metadata": {},
          "output_type": "execute_result"
        }
      ],
      "source": [
        "# calculate √2 with 100 decimals\n",
        "from sympy import sqrt, N\n",
        "\n",
        "N(sqrt(2), 100)"
      ]
    },
    {
      "cell_type": "code",
      "execution_count": 5,
      "metadata": {
        "colab": {
          "base_uri": "https://localhost:8080/",
          "height": 51
        },
        "id": "2-tFwgTT0Vfe",
        "outputId": "f1d312f1-89c3-41c4-ecb2-1ac25c1af221"
      },
      "outputs": [
        {
          "data": {
            "text/latex": [
              "$\\displaystyle \\text{False}$"
            ],
            "text/plain": [
              "False"
            ]
          },
          "execution_count": 5,
          "metadata": {},
          "output_type": "execute_result"
        }
      ],
      "source": [
        "# calculate 1/2 + 1/3 in rational arithmetic\n",
        "from sympy import Rational\n",
        "a = Rational(1, 2)\n",
        "b = Rational(1, 3)\n",
        "\n",
        "a + b"
      ]
    },
    {
      "cell_type": "code",
      "execution_count": 13,
      "metadata": {
        "colab": {
          "base_uri": "https://localhost:8080/",
          "height": 39
        },
        "id": "YtU1F6Em0xc5",
        "outputId": "b7d30de7-589c-4a2e-d281-eb2c791582b7"
      },
      "outputs": [
        {
          "data": {
            "text/latex": [
              "$\\displaystyle x^{6} + 6 x^{5} y + 15 x^{4} y^{2} + 20 x^{3} y^{3} + 15 x^{2} y^{4} + 6 x y^{5} + y^{6}$"
            ],
            "text/plain": [
              "x**6 + 6*x**5*y + 15*x**4*y**2 + 20*x**3*y**3 + 15*x**2*y**4 + 6*x*y**5 + y**6"
            ]
          },
          "execution_count": 13,
          "metadata": {},
          "output_type": "execute_result"
        }
      ],
      "source": [
        "# calculate the expanded form of (x + y)^6\n",
        "from sympy import symbols, expand, Eq\n",
        "x, y = symbols('x y')\n",
        "\n",
        "expand((x + y) ** 6)"
      ]
    },
    {
      "cell_type": "code",
      "execution_count": 12,
      "metadata": {
        "colab": {
          "base_uri": "https://localhost:8080/",
          "height": 39
        },
        "id": "ZR5JsEdB16ou",
        "outputId": "bc6ac96c-60a1-4649-cf39-9a3208462d8d"
      },
      "outputs": [
        {
          "data": {
            "text/latex": [
              "$\\displaystyle \\tan{\\left(x \\right)}$"
            ],
            "text/plain": [
              "tan(x)"
            ]
          },
          "execution_count": 12,
          "metadata": {},
          "output_type": "execute_result"
        }
      ],
      "source": [
        "# symplify the trigonometric expression sin (x) / cos (x)\n",
        "from sympy import Symbol, sin, cos, simplify, Eq\n",
        "x = Symbol('x')\n",
        "\n",
        "simplify(sin(x) / cos(x))"
      ]
    },
    {
      "cell_type": "code",
      "execution_count": 5,
      "metadata": {
        "colab": {
          "base_uri": "https://localhost:8080/",
          "height": 51
        },
        "id": "PiDKTtut2chP",
        "outputId": "ce96433a-324f-49b6-8485-f1a7aa44c900"
      },
      "outputs": [
        {
          "data": {
            "text/latex": [
              "$\\displaystyle - \\frac{1}{6}$"
            ],
            "text/plain": [
              "-1/6"
            ]
          },
          "execution_count": 5,
          "metadata": {},
          "output_type": "execute_result"
        }
      ],
      "source": [
        "# calculate lim x -> 0: sin(x) - x / x^3\n",
        "from sympy import Symbol, sin, limit\n",
        "x = Symbol('x')\n",
        "expr = (sin(x) - x) / x ** 3\n",
        "\n",
        "limit(expr, x, 0)"
      ]
    },
    {
      "cell_type": "code",
      "execution_count": 6,
      "metadata": {
        "colab": {
          "base_uri": "https://localhost:8080/",
          "height": 51
        },
        "id": "RRgdIAGH3xjM",
        "outputId": "95d09a99-d83d-4023-e09d-c2a555cf314d"
      },
      "outputs": [
        {
          "data": {
            "text/latex": [
              "$\\displaystyle \\frac{1}{x}$"
            ],
            "text/plain": [
              "1/x"
            ]
          },
          "execution_count": 6,
          "metadata": {},
          "output_type": "execute_result"
        }
      ],
      "source": [
        "# calculate the derivative of log(x), 1/x, sin(x) and cos(x) for x\n",
        "from sympy import Symbol, diff, log, sin, cos\n",
        "x = Symbol('x')\n",
        "\n",
        "diff(log(x), x)"
      ]
    },
    {
      "cell_type": "code",
      "execution_count": 7,
      "metadata": {
        "colab": {
          "base_uri": "https://localhost:8080/",
          "height": 51
        },
        "id": "w7nrJyz24ZXR",
        "outputId": "7b8de7f1-91cd-44bc-84f7-6d015793d0b1"
      },
      "outputs": [
        {
          "data": {
            "text/latex": [
              "$\\displaystyle - \\frac{1}{x^{2}}$"
            ],
            "text/plain": [
              "-1/x**2"
            ]
          },
          "execution_count": 7,
          "metadata": {},
          "output_type": "execute_result"
        }
      ],
      "source": [
        "diff(1 / x, x)"
      ]
    },
    {
      "cell_type": "code",
      "execution_count": 8,
      "metadata": {
        "colab": {
          "base_uri": "https://localhost:8080/",
          "height": 39
        },
        "id": "fU1WTk9h4eMQ",
        "outputId": "581c1c88-a1dd-408a-e388-4bb8a1dc71e3"
      },
      "outputs": [
        {
          "data": {
            "text/latex": [
              "$\\displaystyle \\cos{\\left(x \\right)}$"
            ],
            "text/plain": [
              "cos(x)"
            ]
          },
          "execution_count": 8,
          "metadata": {},
          "output_type": "execute_result"
        }
      ],
      "source": [
        "diff(sin(x), x)"
      ]
    },
    {
      "cell_type": "code",
      "execution_count": 9,
      "metadata": {
        "colab": {
          "base_uri": "https://localhost:8080/",
          "height": 39
        },
        "id": "--cws2O44gKm",
        "outputId": "828da7d5-e21a-4a78-f46f-b2eee0e5e1cc"
      },
      "outputs": [
        {
          "data": {
            "text/latex": [
              "$\\displaystyle - \\sin{\\left(x \\right)}$"
            ],
            "text/plain": [
              "-sin(x)"
            ]
          },
          "execution_count": 9,
          "metadata": {},
          "output_type": "execute_result"
        }
      ],
      "source": [
        "diff(cos(x), x)"
      ]
    },
    {
      "cell_type": "code",
      "execution_count": 10,
      "metadata": {
        "colab": {
          "base_uri": "https://localhost:8080/",
          "height": 37
        },
        "id": "44vgTZwu45ry",
        "outputId": "82531390-4911-4104-cc49-e4bee8aa0347"
      },
      "outputs": [
        {
          "data": {
            "text/latex": [
              "$\\displaystyle \\left\\{\\left( -2, \\  4\\right)\\right\\}$"
            ],
            "text/plain": [
              "{(-2, 4)}"
            ]
          },
          "execution_count": 10,
          "metadata": {},
          "output_type": "execute_result"
        }
      ],
      "source": [
        "# solve the system of equations x + y = 2, 2x + y = 0\n",
        "from sympy import symbols, linsolve\n",
        "x, y = symbols('x y')\n",
        "system = [x + y - 2, 2 * x + y]\n",
        "\n",
        "linsolve(system, x, y)"
      ]
    },
    {
      "cell_type": "code",
      "execution_count": 11,
      "metadata": {
        "colab": {
          "base_uri": "https://localhost:8080/",
          "height": 54
        },
        "id": "KXxjFX_1_EnO",
        "outputId": "608c98d2-f1f7-45a0-8f21-50269c5975e5"
      },
      "outputs": [
        {
          "data": {
            "text/latex": [
              "$\\displaystyle \\frac{x^{3}}{3}$"
            ],
            "text/plain": [
              "x**3/3"
            ]
          },
          "execution_count": 11,
          "metadata": {},
          "output_type": "execute_result"
        }
      ],
      "source": [
        "# integrate x^2, sin(x), cos(x) interms of x and y\n",
        "from sympy import symbols, integrate, sin, cos\n",
        "x, y = symbols('x y')\n",
        "\n",
        "integrate(x ** 2, x)"
      ]
    },
    {
      "cell_type": "code",
      "execution_count": 12,
      "metadata": {
        "colab": {
          "base_uri": "https://localhost:8080/",
          "height": 39
        },
        "id": "KlZhGtDY_iV7",
        "outputId": "ac26cc6d-4da2-45ab-bb23-7444b0a567fe"
      },
      "outputs": [
        {
          "data": {
            "text/latex": [
              "$\\displaystyle x^{2} y$"
            ],
            "text/plain": [
              "x**2*y"
            ]
          },
          "execution_count": 12,
          "metadata": {},
          "output_type": "execute_result"
        }
      ],
      "source": [
        "integrate(x ** 2, y)"
      ]
    },
    {
      "cell_type": "code",
      "execution_count": 13,
      "metadata": {
        "colab": {
          "base_uri": "https://localhost:8080/",
          "height": 39
        },
        "id": "YUexyWVD_uGk",
        "outputId": "2fff4b12-4f56-4cbb-e006-e8e7b0690f2f"
      },
      "outputs": [
        {
          "data": {
            "text/latex": [
              "$\\displaystyle - \\cos{\\left(x \\right)}$"
            ],
            "text/plain": [
              "-cos(x)"
            ]
          },
          "execution_count": 13,
          "metadata": {},
          "output_type": "execute_result"
        }
      ],
      "source": [
        "integrate(sin(x), x)"
      ]
    },
    {
      "cell_type": "code",
      "execution_count": 14,
      "metadata": {
        "colab": {
          "base_uri": "https://localhost:8080/",
          "height": 39
        },
        "id": "7LKfShNC_x0H",
        "outputId": "e15f5a82-9876-45f6-f4d6-eabc585f2eb3"
      },
      "outputs": [
        {
          "data": {
            "text/latex": [
              "$\\displaystyle y \\sin{\\left(x \\right)}$"
            ],
            "text/plain": [
              "y*sin(x)"
            ]
          },
          "execution_count": 14,
          "metadata": {},
          "output_type": "execute_result"
        }
      ],
      "source": [
        "integrate(sin(x), y)"
      ]
    },
    {
      "cell_type": "code",
      "execution_count": 15,
      "metadata": {
        "colab": {
          "base_uri": "https://localhost:8080/",
          "height": 39
        },
        "id": "UPjp38u5_2Qc",
        "outputId": "0b808a5f-184a-4c90-f190-b43a0f5652d2"
      },
      "outputs": [
        {
          "data": {
            "text/latex": [
              "$\\displaystyle \\sin{\\left(x \\right)}$"
            ],
            "text/plain": [
              "sin(x)"
            ]
          },
          "execution_count": 15,
          "metadata": {},
          "output_type": "execute_result"
        }
      ],
      "source": [
        "integrate(cos(x), x)"
      ]
    },
    {
      "cell_type": "code",
      "execution_count": 16,
      "metadata": {
        "colab": {
          "base_uri": "https://localhost:8080/",
          "height": 39
        },
        "id": "_0QGb_NU_6Gq",
        "outputId": "54155fd8-49e4-43c1-85fb-1282e545e799"
      },
      "outputs": [
        {
          "data": {
            "text/latex": [
              "$\\displaystyle y \\cos{\\left(x \\right)}$"
            ],
            "text/plain": [
              "y*cos(x)"
            ]
          },
          "execution_count": 16,
          "metadata": {},
          "output_type": "execute_result"
        }
      ],
      "source": [
        "integrate(cos(x), y)"
      ]
    },
    {
      "cell_type": "code",
      "execution_count": 17,
      "metadata": {
        "colab": {
          "base_uri": "https://localhost:8080/",
          "height": 47
        },
        "id": "w4cxuBHb6IH1",
        "outputId": "bf1ca7d9-5ad0-4d4e-c1c6-0a8c4e702179"
      },
      "outputs": [
        {
          "data": {
            "text/latex": [
              "$\\displaystyle f{\\left(x \\right)} = C_{1} + C_{2} e^{- 9 x} + \\frac{x}{9}$"
            ],
            "text/plain": [
              "Eq(f(x), C1 + C2*exp(-9*x) + x/9)"
            ]
          },
          "execution_count": 17,
          "metadata": {},
          "output_type": "execute_result"
        }
      ],
      "source": [
        "# solve f''(x) + 9 f(x) = 1\n",
        "from sympy import Function, Symbol, diff, Eq, dsolve\n",
        "x = Symbol('x')\n",
        "f = Function('f')\n",
        "eq = Eq(diff(diff(f(x))) + 9 * diff(f(x)), 1)\n",
        "\n",
        "dsolve(eq)"
      ]
    },
    {
      "cell_type": "code",
      "execution_count": 18,
      "metadata": {
        "colab": {
          "base_uri": "https://localhost:8080/",
          "height": 58
        },
        "id": "omJ5fhIK8fme",
        "outputId": "8afc9a99-a9f0-4be8-8962-1d2aeff3a708"
      },
      "outputs": [
        {
          "data": {
            "text/latex": [
              "$\\displaystyle \\left\\{\\left( - \\frac{59}{34}, \\  - \\frac{33}{34}, \\  z\\right)\\right\\}$"
            ],
            "text/plain": [
              "{(-59/34, -33/34, z)}"
            ]
          },
          "execution_count": 18,
          "metadata": {},
          "output_type": "execute_result"
        }
      ],
      "source": [
        "# using matrices solve the linear equations: 3x + 7y = 12z, 4x - 2y = 5z\n",
        "from sympy import Matrix, linsolve, symbols\n",
        "x, y, z = symbols('x y z')\n",
        "M = Matrix(((3, 7, -12), (4, -2, -5)))\n",
        "\n",
        "linsolve(M, x, y, z)"
      ]
    }
  ],
  "metadata": {
    "colab": {
      "provenance": []
    },
    "kernelspec": {
      "display_name": "Python 3",
      "name": "python3"
    },
    "language_info": {
      "name": "python",
      "version": "3.8.10"
    }
  },
  "nbformat": 4,
  "nbformat_minor": 0
}
