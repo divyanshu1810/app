{
 "cells": [
  {
   "cell_type": "code",
   "execution_count": 1,
   "metadata": {},
   "outputs": [
    {
     "name": "stdout",
     "output_type": "stream",
     "text": [
      "brother(X,Y): {('b', 'c'), ('c', 'b'), ('e', 'd'), ('f', 'f'), ('e', 'e'), ('d', 'd'), ('d', 'e'), ('c', 'c'), ('b', 'b')}\n",
      "cousin(X,Y): {('b', 'c'), ('c', 'b'), ('e', 'd'), ('f', 'f'), ('e', 'e'), ('d', 'd'), ('b', 'b'), ('c', 'c'), ('d', 'e')}\n",
      "grandson(X,Y): {('d', 'a'), ('e', 'a'), ('f', 'a')}\n",
      "descendant(X,Y): {('d', 'a'), ('f', 'c'), ('c', 'a'), ('b', 'a'), ('f', 'a'), ('e', 'b'), ('e', 'a'), ('d', 'b')}\n"
     ]
    }
   ],
   "source": [
    "from pyDatalog import pyDatalog\n",
    "\n",
    "pyDatalog.create_terms('X, Y, Z, father, brother, cousin, grandson, descendant')\n",
    "\n",
    "+father('a', 'b')\n",
    "+father('a', 'c')\n",
    "+father('b', 'd')\n",
    "+father('b', 'e')\n",
    "+father('c', 'f')\n",
    "\n",
    "brother(X,Y) <= father(Z,X) & father(Z,Y)\n",
    "cousin(X,Y) <= brother(X,Z) & brother(Y,Z)\n",
    "grandson(X,Y) <= father(Y,Z) & father(Z,X)\n",
    "descendant(X, Y) <= father(Y, X)\n",
    "descendant(X, Y) <= father(Z, X) & descendant(Z, Y)\n",
    "\n",
    "print(f\"brother(X,Y): {pyDatalog.ask('brother(X,Y)')}\")\n",
    "print(f\"cousin(X,Y): {pyDatalog.ask('cousin(X,Y)')}\")\n",
    "print(f\"grandson(X,Y): {pyDatalog.ask('grandson(X,Y)')}\")\n",
    "print(f\"descendant(X,Y): {pyDatalog.ask('descendant(X,Y)')}\")\n"
   ]
  },
  {
   "cell_type": "code",
   "execution_count": 2,
   "metadata": {},
   "outputs": [
    {
     "name": "stdout",
     "output_type": "stream",
     "text": [
      "{('bear',)}\n"
     ]
    }
   ],
   "source": [
    "from pyDatalog import pyDatalog\n",
    "\n",
    "pyDatalog.create_terms('big, small, grey, black, brown, dark')\n",
    "\n",
    "dark(X) <= brown(X)\n",
    "dark(X) <= black(X)\n",
    "\n",
    "+big('bear')\n",
    "+big('elephant')\n",
    "+small('cat')\n",
    "+brown('bear')\n",
    "+black('cat')\n",
    "+grey('elephant')\n",
    "\n",
    "print(pyDatalog.ask('dark(X) & big(X)'))"
   ]
  },
  {
   "cell_type": "code",
   "execution_count": 3,
   "metadata": {},
   "outputs": [
    {
     "name": "stdout",
     "output_type": "stream",
     "text": [
      "{('Shyam', 80), ('Ram', 90), ('Carol', 70), ('Raju', 45), ('Priya', 85)}\n",
      "{('Shyam',)}\n",
      "{(85,)}\n",
      "{('Carol',), ('Priya',), ('Shyam',), ('Ram',)}\n"
     ]
    }
   ],
   "source": [
    "from pyDatalog import pyDatalog\n",
    "\n",
    "pyDatalog.create_terms('marks, passm')\n",
    "\n",
    "marks['Ram'] = 90\n",
    "marks['Raju'] = 45\n",
    "marks['Priya'] = 85\n",
    "marks['Carol'] = 70\n",
    "marks['Shyam'] = 80\n",
    "\n",
    "print(pyDatalog.ask('marks[X] == Y'))\n",
    "print(pyDatalog.ask('marks[X] == 80'))\n",
    "print(pyDatalog.ask('marks[\"Priya\"] == Y'))\n",
    "\n",
    "passm(X) <= (marks[X] >= 60)\n",
    "print(pyDatalog.ask('passm(X)'))"
   ]
  },
  {
   "cell_type": "code",
   "execution_count": 4,
   "metadata": {},
   "outputs": [
    {
     "name": "stdout",
     "output_type": "stream",
     "text": [
      "Ram: 90\n",
      "Raju: 45\n",
      "Priya: 85\n",
      "Carol: 70\n",
      "Shyam: 80\n",
      "Shyam\n",
      "85\n",
      "Ram\n",
      "Priya\n",
      "Carol\n",
      "Shyam\n"
     ]
    }
   ],
   "source": [
    "marks = {\n",
    "    'Ram': 90,\n",
    "    'Raju': 45,\n",
    "    'Priya': 85,\n",
    "    'Carol': 70,\n",
    "    'Shyam': 80\n",
    "}\n",
    "\n",
    "for name, mark in marks.items():\n",
    "    print(f\"{name}: {mark}\")\n",
    "\n",
    "for name, mark in marks.items():\n",
    "    if mark == 80:\n",
    "        print(name)\n",
    "\n",
    "for name, mark in marks.items():\n",
    "    if name == 'Priya':\n",
    "        print(mark)\n",
    "\n",
    "for name, mark in marks.items():\n",
    "    if mark >= 60:\n",
    "        print(name)"
   ]
  },
  {
   "cell_type": "code",
   "execution_count": 5,
   "metadata": {},
   "outputs": [
    {
     "name": "stdout",
     "output_type": "stream",
     "text": [
      "{(120,)}\n"
     ]
    }
   ],
   "source": [
    "from pyDatalog import pyDatalog \n",
    "\n",
    "pyDatalog.create_terms('factorial, N')   \n",
    "\n",
    "factorial[N] = N * factorial[N-1]  \n",
    "factorial[1] = 1   \n",
    "\n",
    "print(pyDatalog.ask('factorial[5] == X'))"
   ]
  },
  {
   "cell_type": "code",
   "execution_count": 6,
   "metadata": {},
   "outputs": [
    {
     "name": "stdout",
     "output_type": "stream",
     "text": [
      "{('hillary',), ('usain',), ('adam',), ('donald',)}\n",
      "{('lennard',)}\n"
     ]
    }
   ],
   "source": [
    "from pyDatalog import pyDatalog\n",
    "\n",
    "pyDatalog.create_terms('A, B, male, female, parent, husband, wife, father, mother, brother, sister, cousin, grandmother, uncle, aunt, grandfather')\n",
    "\n",
    "+parent('mike', 'lennard')\n",
    "+parent('mike', 'lena')\n",
    "+parent('lennard', 'donald')\n",
    "+parent('lennard', 'hillary')\n",
    "+parent('lennard', 'usain')\n",
    "+parent('lena', 'adam')\n",
    "+parent('lena', 'simon')\n",
    "+parent('donald', 'lisa')\n",
    "+parent('hillary', 'joar')\n",
    "+parent('hillary', 'elise')\n",
    "\n",
    "+male('mike')\n",
    "+male('lennard')\n",
    "+female('lena')\n",
    "+male('donald')\n",
    "+female('hillary')\n",
    "+female('usain')\n",
    "+male('adam')\n",
    "+female('simon')\n",
    "+female('lisa')\n",
    "+male('joar')\n",
    "+female('elise')\n",
    "+male('dan')\n",
    "\n",
    "father(X, Y) <= parent(X, Y) & male(X)\n",
    "mother(X, Y) <= parent(X, Y) & female(X)\n",
    "\n",
    "wife(X, Y) <= female(X) & male(Y) & (parent(X, Z) & parent(Y, Z))\n",
    "husband(X, Y) <= male(X) & female(Y) & (parent(X, Z) & parent(Y, Z))\n",
    "\n",
    "father(X, Y) <= male(X) & parent(X, Y)\n",
    "mother(X, Y) <= female(X) & parent(X, Y)\n",
    "\n",
    "sister(X, Y) <= female(X) & parent(Z, X) & parent(Z, Y) & (X != Y)\n",
    "brother(X, Y) <= male(X) & parent(Z, X) & parent(Z, Y) & (X != Y)\n",
    "\n",
    "grandmother(X, Y) <= female(X) & parent(X, Z) & parent(Z, Y)\n",
    "grandfather(X, Y) <= male(X) & parent(X, Z) & parent(Z, Y)\n",
    "\n",
    "cousin(X, Y) <= parent(A, X) & parent(B, Y) & (A != B) & brother(A, B)\n",
    "cousin(X, Y) <= parent(A, X) & parent(B, Y) & (A != B) & sister(A, B)\n",
    "\n",
    "uncle(X, Y) <= male(X) & (sister(B, A) & husband(X, B)) & parent(A, Y)\n",
    "uncle(X, Y) <= male(X) & (sister(B, A) & husband(X, B)) & parent(A, Y)\n",
    "\n",
    "aunt(X, Y) <= female(X) & sister(X, A) & parent(A, Y)\n",
    "aunt(X, Y) <= female(X) & (brother(B, A) & wife(X, B)) & parent(A, Y)\n",
    "\n",
    "print(pyDatalog.ask('cousin(X, \"adam\")'))\n",
    "print(pyDatalog.ask('grandfather(X, \"elise\")'))\n",
    "\n"
   ]
  },
  {
   "cell_type": "code",
   "execution_count": 7,
   "metadata": {},
   "outputs": [
    {
     "name": "stdout",
     "output_type": "stream",
     "text": [
      "None\n",
      "{('Dicky',)}\n",
      "{('Mike',), ('Jack',), ('Anne',)}\n",
      "{('Mike',), ('Jack',), ('Anne',)}\n",
      "{('Mike',), ('Jack',), ('Anne',)}\n"
     ]
    }
   ],
   "source": [
    "from pyDatalog import pyDatalog\n",
    "\n",
    "pyDatalog.create_terms('X, Y, A, B, male, female, parent, father, mother, husband, sister, brother, grandmother, grandfather, ancestor, cousin, uncle, son, daughter, children')\n",
    "\n",
    "+parent('Dicky', 'Oliver')\n",
    "+parent('Dicky', 'Sophie')\n",
    "+parent('Oliver', 'Anne')\n",
    "+parent('Oliver', 'Mike')\n",
    "+parent('Oliver', 'Jack')\n",
    "+parent('Sophie', 'Rose')\n",
    "+parent('Rose', 'George')\n",
    "\n",
    "+male('Dicky')\n",
    "+male('Oliver')\n",
    "+female('Sophie')\n",
    "+female('Anne')\n",
    "+male('Mike')\n",
    "+male('Jack')\n",
    "+female('Rose')\n",
    "+male('George')\n",
    "\n",
    "\n",
    "father(X, Y) <= parent(X, Y) & male(X)\n",
    "mother(X, Y) <= parent(X, Y) & female(X)\n",
    "\n",
    "husband(X, Y) <= male(X) & female(Y) & (parent(X, Z) & parent(Y, Z))\n",
    "\n",
    "father(X, Y) <= male(X) & parent(X, Y)\n",
    "mother(X, Y) <= female(X) & parent(X, Y)\n",
    "\n",
    "brother(X, Y) <= father(Z, X) & father(Z, Y) & male(X)\n",
    "sister(X, Y) <= father(Z, X) & father(Z, Y) & female(X)\n",
    "\n",
    "grandmother(X, Y) <= female(X) & parent(X, Z) & parent(Z, Y)\n",
    "grandfather(X, Y) <= male(X) & parent(X, Z) & parent(Z, Y)\n",
    "\n",
    "cousin(X, Y) <= parent(A, X) & parent(B, Y) & (A != B) & brother(A, B)\n",
    "cousin(X, Y) <= parent(A, X) & parent(B, Y) & (A != B) & sister(A, B)\n",
    "\n",
    "uncle(X, Y) <= male(X) & (sister(B, A) & husband(X, B)) & parent(A, Y)\n",
    "uncle(X, Y) <= male(X) & (sister(B, A) & husband(X, B)) & parent(A, Y)\n",
    "\n",
    "ancestor(X, Y) <= parent(X, Y)\n",
    "ancestor(X, Y) <= parent(A, Y) & ancestor(X, A)\n",
    "\n",
    "son(X, Y) <= male(X) & parent(Y, X)\n",
    "daughter(X, Y) <= female(X) & parent(Y, X)\n",
    "\n",
    "children(X, Y) <= son(X, Y)\n",
    "children(X, Y) <= daughter(X, Y)\n",
    "\n",
    "print(pyDatalog.ask('parent(\"Oliver\", \"George\")'))\n",
    "print(pyDatalog.ask('parent(X, \"Oliver\")'))\n",
    "print(pyDatalog.ask('children(X, \"Oliver\")'))\n",
    "print(pyDatalog.ask('brother(X, \"Anne\")'))\n",
    "print(pyDatalog.ask('cousin(X, \"Rose\")'))"
   ]
  }
 ],
 "metadata": {
  "kernelspec": {
   "display_name": "venv",
   "language": "python",
   "name": "python3"
  },
  "language_info": {
   "codemirror_mode": {
    "name": "ipython",
    "version": 3
   },
   "file_extension": ".py",
   "mimetype": "text/x-python",
   "name": "python",
   "nbconvert_exporter": "python",
   "pygments_lexer": "ipython3",
   "version": "3.8.10"
  },
  "orig_nbformat": 4
 },
 "nbformat": 4,
 "nbformat_minor": 2
}
