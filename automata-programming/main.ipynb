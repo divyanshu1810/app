{
 "cells": [
  {
   "cell_type": "code",
   "execution_count": 1,
   "metadata": {},
   "outputs": [],
   "source": [
    "def accept(fa, bstr):\n",
    "  print(f\"{bstr}: {'Accepted' if fa.accepts_input(bstr) else 'Rejected'}\")"
   ]
  },
  {
   "cell_type": "code",
   "execution_count": 2,
   "metadata": {},
   "outputs": [
    {
     "name": "stdout",
     "output_type": "stream",
     "text": [
      "10101010: Accepted\n",
      "100110: Rejected\n",
      "10111101: Accepted\n",
      "11111: Accepted\n"
     ]
    }
   ],
   "source": [
    "# dfa: L(M)={w|wε{0,1}*} and w is a string that does not contain consecutive 0's\n",
    "from automata.fa.dfa import DFA\n",
    "\n",
    "dfa = DFA(\n",
    "    states={'q0', 'q1', 'q2'},\n",
    "    input_symbols={'0', '1'},\n",
    "    transitions={\n",
    "        'q0': {'0': 'q1', '1': 'q0'},\n",
    "        'q1': {'0': 'q2', '1': 'q0'},\n",
    "        'q2': {'0': 'q2', '1': 'q2'}\n",
    "    },\n",
    "    initial_state='q0',\n",
    "    final_states={'q0', 'q1'}\n",
    ")\n",
    "\n",
    "accept(dfa, '10101010')\n",
    "accept(dfa, '100110')\n",
    "accept(dfa, '10111101')\n",
    "accept(dfa, '11111')"
   ]
  },
  {
   "cell_type": "code",
   "execution_count": 3,
   "metadata": {},
   "outputs": [
    {
     "name": "stdout",
     "output_type": "stream",
     "text": [
      "00111010: Accepted\n",
      "10101011: Rejected\n",
      "0101101: Rejected\n"
     ]
    }
   ],
   "source": [
    "# dfa: ∑={w|wε{0,1}*} and w is a string with three consecutive 1's\n",
    "from automata.fa.dfa import DFA\n",
    "\n",
    "dfa = DFA(\n",
    "    states={'q0', 'q1', 'q2', 'q3'},\n",
    "    input_symbols={'0', '1'},\n",
    "    transitions={\n",
    "        'q0': {'0': 'q0', '1': 'q1'},\n",
    "        'q1': {'0': 'q0', '1': 'q2'},\n",
    "        'q2': {'0': 'q0', '1': 'q3'},\n",
    "        'q3': {'0': 'q3', '1': 'q3'}\n",
    "    },\n",
    "    initial_state='q0',\n",
    "    final_states={'q3'}\n",
    ")\n",
    "\n",
    "accept(dfa, '00111010')\n",
    "accept(dfa, '10101011')\n",
    "accept(dfa, '0101101')"
   ]
  },
  {
   "cell_type": "code",
   "execution_count": 4,
   "metadata": {},
   "outputs": [
    {
     "name": "stdout",
     "output_type": "stream",
     "text": [
      "1010: Accepted\n",
      "10101: Rejected\n",
      "11001001: Accepted\n"
     ]
    }
   ],
   "source": [
    "# dfa: ∑={0,1} accepts even number of 0's and even number of 1's\n",
    "from automata.fa.dfa import DFA\n",
    "\n",
    "dfa = DFA(\n",
    "    states={'q0', 'q1', 'q2', 'q3'},\n",
    "    input_symbols={'0', '1'},\n",
    "    transitions={\n",
    "        'q0': {'0': 'q1', '1': 'q2'},\n",
    "        'q1': {'0': 'q0', '1': 'q3'},\n",
    "        'q2': {'0': 'q3', '1': 'q0'},\n",
    "        'q3': {'0': 'q2', '1': 'q1'},\n",
    "    },\n",
    "    initial_state='q0',\n",
    "    final_states={'q0'}\n",
    ")\n",
    "\n",
    "accept(dfa, '1010')\n",
    "accept(dfa, '10101')\n",
    "accept(dfa, '11001001')"
   ]
  },
  {
   "cell_type": "code",
   "execution_count": 5,
   "metadata": {},
   "outputs": [
    {
     "name": "stdout",
     "output_type": "stream",
     "text": [
      "101: Accepted\n",
      "0101: Rejected\n",
      "1010: Rejected\n"
     ]
    }
   ],
   "source": [
    "# dfa: ∑={0,1} accepts only the input 101\n",
    "from automata.fa.dfa import DFA\n",
    "\n",
    "dfa = DFA(\n",
    "    states={'q0', 'q1', 'q2', 'q3', 'q4'},\n",
    "    input_symbols={'0', '1'},\n",
    "    transitions={\n",
    "        'q0': {'0': 'q4', '1': 'q1'},\n",
    "        'q1': {'0': 'q2', '1': 'q4'},\n",
    "        'q2': {'0': 'q4', '1': 'q3'},\n",
    "        'q3': {'0': 'q4', '1': 'q4'},\n",
    "        'q4': {'0': 'q4', '1': 'q4'}\n",
    "    },\n",
    "    initial_state='q0',\n",
    "    final_states={'q3'}\n",
    ")\n",
    "\n",
    "accept(dfa, '101')\n",
    "accept(dfa, '0101')\n",
    "accept(dfa, '1010')"
   ]
  },
  {
   "cell_type": "code",
   "execution_count": 6,
   "metadata": {},
   "outputs": [
    {
     "name": "stdout",
     "output_type": "stream",
     "text": [
      "10101011: Rejected\n",
      "1000: Accepted\n",
      "0101101: Rejected\n",
      "100010: Accepted\n"
     ]
    }
   ],
   "source": [
    "# dfa: ∑={0,1} accepts accepts those string which starts with 1 and ends with 0\n",
    "from automata.fa.dfa import DFA\n",
    "\n",
    "dfa = DFA(\n",
    "    states={'q0', 'q1', 'q2', 'q3'},\n",
    "    input_symbols={'0', '1'},\n",
    "    transitions={\n",
    "        'q0': {'0': 'q3', '1': 'q1'},\n",
    "        'q1': {'0': 'q2', '1': 'q1'},\n",
    "        'q2': {'0': 'q2', '1': 'q1'},\n",
    "        'q3': {'0': 'q3', '1': 'q3'},\n",
    "    },\n",
    "    initial_state='q0',\n",
    "    final_states={'q2'}\n",
    ")\n",
    "\n",
    "accept(dfa, '10101011')\n",
    "accept(dfa, '1000')\n",
    "accept(dfa, '0101101')\n",
    "accept(dfa, '100010')"
   ]
  },
  {
   "cell_type": "code",
   "execution_count": 7,
   "metadata": {},
   "outputs": [
    {
     "name": "stdout",
     "output_type": "stream",
     "text": [
      "aab: Accepted\n",
      "aaabab: Rejected\n",
      "baab: Accepted\n",
      "bbbbb: Rejected\n"
     ]
    }
   ],
   "source": [
    "# nfa: (a|b)*aab\n",
    "from automata.fa.nfa import NFA\n",
    "\n",
    "nfa = NFA(\n",
    "    states={'q0', 'q1', 'q2', 'q3'},\n",
    "    input_symbols={'a', 'b'},\n",
    "    transitions={\n",
    "        'q0': {'a': {'q0', 'q1'}, 'b': {'q0'}},\n",
    "        'q1': {'a': {'q2'}},\n",
    "        'q2': {'b': {'q3'}},\n",
    "    },\n",
    "    initial_state='q0',\n",
    "    final_states={'q3'}\n",
    ")\n",
    "\n",
    "accept(nfa, 'aab')\n",
    "accept(nfa, 'aaabab')\n",
    "accept(nfa, 'baab')\n",
    "accept(nfa, 'bbbbb')"
   ]
  },
  {
   "cell_type": "code",
   "execution_count": 8,
   "metadata": {},
   "outputs": [
    {
     "name": "stdout",
     "output_type": "stream",
     "text": [
      "010101: Rejected\n",
      "1010100: Accepted\n",
      "101011: Accepted\n"
     ]
    }
   ],
   "source": [
    "# nfa: at least two consecutive 0's or 1's\n",
    "from automata.fa.nfa import NFA\n",
    "\n",
    "nfa = NFA(\n",
    "    states={'q0', 'q1', 'q2', 'q3', 'q4'},\n",
    "    input_symbols={'0', '1'},\n",
    "    transitions={\n",
    "        'q0': {'0': {'q0', 'q1'}, '1': {'q0', 'q3'}},\n",
    "        'q1': {'0': {'q2'}},\n",
    "        'q3': {'1': {'q4'}},\n",
    "    },\n",
    "    initial_state='q0',\n",
    "    final_states={'q2', 'q4'}\n",
    ")\n",
    "\n",
    "accept(nfa, '010101')\n",
    "accept(nfa, '1010100')\n",
    "accept(nfa, '101011')"
   ]
  },
  {
   "cell_type": "code",
   "execution_count": 9,
   "metadata": {},
   "outputs": [
    {
     "name": "stdout",
     "output_type": "stream",
     "text": [
      "000: Accepted\n",
      "111: Rejected\n",
      "110110: Accepted\n"
     ]
    }
   ],
   "source": [
    "# nfa: either odd number of 0's, or number of 1's not a multiple of 3, or both\n",
    "from automata.fa.nfa import NFA\n",
    "\n",
    "nfa = NFA(\n",
    "    states={'q0', 'q1', 'q2', 'q3', 'q4', 'q5', 'q6'},\n",
    "    input_symbols={'0', '1'},\n",
    "    transitions={\n",
    "        'q0': {'': {'q1', 'q5'}},\n",
    "        'q1': {'0': {'q1'}, '1': {'q2'}},\n",
    "        'q2': {'0': {'q2'}, '1': {'q3'}},\n",
    "        'q3': {'0': {'q3'}, '1': {'q4'}},\n",
    "        'q4': {'0': {'q4'}, '1': {'q2'}},\n",
    "        'q5': {'0': {'q6'}, '1': {'q5'}},\n",
    "        'q6': {'0': {'q5'}, '1': {'q6'}}\n",
    "    },\n",
    "    initial_state='q0',\n",
    "    final_states={'q1', 'q2', 'q3', 'q6'}\n",
    ")\n",
    "\n",
    "\n",
    "accept(nfa, '000')\n",
    "accept(nfa, '111')\n",
    "accept(nfa, '110110')"
   ]
  },
  {
   "cell_type": "code",
   "execution_count": 10,
   "metadata": {},
   "outputs": [
    {
     "name": "stdout",
     "output_type": "stream",
     "text": [
      "abba: Accepted\n",
      "abbaaa: Rejected\n",
      "ababbaba: Accepted\n"
     ]
    }
   ],
   "source": [
    "# nfa: L=(ab)*(ba)* U aa*\n",
    "from automata.fa.nfa import NFA\n",
    "\n",
    "nfa = NFA(\n",
    "    states={'q0', 'q1', 'q2', 'q3', 'q4'},\n",
    "    input_symbols={'a', 'b'},\n",
    "    transitions={\n",
    "        'q0': {'a': {'q1', 'q3'}},\n",
    "        'q1': {'b': {'q2'}},\n",
    "        'q2': {'a': {'q1'}, 'b': {'q4'}},\n",
    "        'q3': {'a': {'q3'}},\n",
    "        'q4': {'a': {'q2'}}\n",
    "    },\n",
    "    initial_state='q0',\n",
    "    final_states={'q2', 'q3'}\n",
    ")\n",
    "\n",
    "accept(nfa, 'abba')\n",
    "accept(nfa, 'abbaaa')\n",
    "accept(nfa, 'ababbaba')"
   ]
  },
  {
   "cell_type": "code",
   "execution_count": 11,
   "metadata": {},
   "outputs": [
    {
     "name": "stdout",
     "output_type": "stream",
     "text": [
      "010101: Accepted\n",
      "0101: Accepted\n",
      "01010: Accepted\n",
      "1001: Rejected\n"
     ]
    }
   ],
   "source": [
    "# nfa: L=(01 U 010)*\n",
    "from automata.fa.nfa import NFA\n",
    "\n",
    "nfa = NFA(\n",
    "    states={'q0', 'q1', 'q2', 'q3'},\n",
    "    input_symbols={'0', '1'},\n",
    "    transitions={\n",
    "        'q0': {'0': {'q1'}, '1': {'q3'}},\n",
    "        'q1': {'1': {'q0', 'q2'}},\n",
    "        'q2': {'0': {'q0'}, '1': {'q3'}},\n",
    "    },\n",
    "    initial_state='q0',\n",
    "    final_states={'q1', 'q2'}\n",
    ")\n",
    "\n",
    "accept(nfa, '010101')\n",
    "accept(nfa, '0101')\n",
    "accept(nfa, '01010')\n",
    "accept(nfa, '1001')"
   ]
  }
 ],
 "metadata": {
  "kernelspec": {
   "display_name": "venv",
   "language": "python",
   "name": "python3"
  },
  "language_info": {
   "codemirror_mode": {
    "name": "ipython",
    "version": 3
   },
   "file_extension": ".py",
   "mimetype": "text/x-python",
   "name": "python",
   "nbconvert_exporter": "python",
   "pygments_lexer": "ipython3",
   "version": "3.8.10"
  },
  "orig_nbformat": 4,
  "vscode": {
   "interpreter": {
    "hash": "aec67d33c448578fdac34b41e6397affbaee4bc165a105805a56548a301af4cb"
   }
  }
 },
 "nbformat": 4,
 "nbformat_minor": 2
}
