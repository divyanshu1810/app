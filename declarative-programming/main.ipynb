{
 "cells": [
  {
   "cell_type": "code",
   "execution_count": 12,
   "id": "eb79d0b9",
   "metadata": {},
   "outputs": [
    {
     "name": "stdout",
     "output_type": "stream",
     "text": [
      "Database Created ✅\n"
     ]
    }
   ],
   "source": [
    "import sqlite3\n",
    "con = sqlite3.connect(\"database.db\")\n",
    "cursor=con.cursor()\n",
    "cursor.execute(\"create table Shop (Product_ID integer,Product_Name text,Price integer,Manifacturer text,Quantity integer)\")\n",
    "print(\"Database Created ✅\")            "
   ]
  },
  {
   "cell_type": "code",
   "execution_count": 13,
   "id": "04a5802e",
   "metadata": {},
   "outputs": [
    {
     "name": "stdout",
     "output_type": "stream",
     "text": [
      "Products Added ✅\n"
     ]
    }
   ],
   "source": [
    "cursor.execute(\"insert into Shop values(145, 'Ball Pen', 10, 'Cello', 55)\")\n",
    "cursor.execute(\"insert into Shop values(142, 'Pen', 20, 'Cello', 50)\")\n",
    "cursor.execute(\"insert into Shop values(143, 'Pencil', 30, 'Cello', 52)\")\n",
    "cursor.execute(\"insert into Shop values(144, 'Rubber', 40, 'Cello', 51)\")\n",
    "cursor.execute(\"insert into Shop values(141, 'Scale', 50, 'Cello', 90)\")\n",
    "print(\"Products Added ✅\")"
   ]
  },
  {
   "cell_type": "code",
   "execution_count": 15,
   "id": "146f0cb2",
   "metadata": {},
   "outputs": [
    {
     "name": "stdout",
     "output_type": "stream",
     "text": [
      "Three Most Expensive Products:\n",
      "\n",
      "(141, 'Scale', 50, 'Cello', 90)\n",
      "(144, 'Rubber', 40, 'Cello', 51)\n",
      "(143, 'Pencil', 30, 'Cello', 52)\n"
     ]
    }
   ],
   "source": [
    "cursor.execute(\"select * from Shop order by price desc limit 3\")\n",
    "print(\"Three Most Expensive Products:\\n\")\n",
    "res=cursor.fetchall()\n",
    "for x in res:\n",
    "    print(x)"
   ]
  },
  {
   "cell_type": "code",
   "execution_count": 17,
   "id": "b08aae81",
   "metadata": {},
   "outputs": [
    {
     "name": "stdout",
     "output_type": "stream",
     "text": [
      "Items by \"XYZ\" company:\n",
      "\n",
      "(145, 'Ball Pen', 10, 'Cello', 55)\n",
      "(142, 'Pen', 20, 'Cello', 50)\n",
      "(143, 'Pencil', 30, 'Cello', 52)\n",
      "(144, 'Rubber', 40, 'Cello', 51)\n"
     ]
    }
   ],
   "source": [
    "cursor.execute(\"select * from Shop where Manifacturer = 'Cello' and Price<=40\")\n",
    "print(\"Items by \\\"XYZ\\\" company:\\n\")\n",
    "res=cursor.fetchall()\n",
    "for x in res:\n",
    "    print(x)"
   ]
  },
  {
   "cell_type": "code",
   "execution_count": 18,
   "id": "b23f58fe",
   "metadata": {},
   "outputs": [
    {
     "name": "stdout",
     "output_type": "stream",
     "text": [
      "Items by Price:\n",
      "\n",
      "(142, 'Pen', 20, 'Cello', 50)\n",
      "(143, 'Pencil', 30, 'Cello', 52)\n",
      "(144, 'Rubber', 40, 'Cello', 51)\n"
     ]
    }
   ],
   "source": [
    "cursor.execute(\"select * from Shop where Price between 20 and 40\")\n",
    "print(\"Items by Price:\\n\")\n",
    "res=cursor.fetchall()\n",
    "for x in res:\n",
    "    print(x)"
   ]
  },
  {
   "cell_type": "code",
   "execution_count": 19,
   "id": "4c43f877",
   "metadata": {},
   "outputs": [
    {
     "name": "stdout",
     "output_type": "stream",
     "text": [
      "Number of Items:\n",
      "\n",
      "(5,)\n"
     ]
    }
   ],
   "source": [
    "cursor.execute(\"select count (*) from Shop\")\n",
    "print(\"Number of Items:\\n\")\n",
    "res=cursor.fetchall()\n",
    "for x in res:\n",
    "    print(x)"
   ]
  },
  {
   "cell_type": "code",
   "execution_count": 20,
   "id": "e8340b43",
   "metadata": {},
   "outputs": [
    {
     "name": "stdout",
     "output_type": "stream",
     "text": [
      "Categories of Item:\n",
      "\n",
      "('Ball Pen',)\n",
      "('Pen',)\n",
      "('Pencil',)\n",
      "('Rubber',)\n",
      "('Scale',)\n"
     ]
    }
   ],
   "source": [
    "cursor.execute(\"select Product_Name from Shop\")\n",
    "print(\"Categories of Item:\\n\")\n",
    "res=cursor.fetchall()\n",
    "for x in res:\n",
    "    print(x)"
   ]
  },
  {
   "cell_type": "code",
   "execution_count": 21,
   "id": "d7cee094",
   "metadata": {},
   "outputs": [
    {
     "name": "stdout",
     "output_type": "stream",
     "text": [
      "Items Manufacturer start from C:\n",
      "\n",
      "(145, 'Ball Pen', 10, 'Cello', 55)\n",
      "(142, 'Pen', 20, 'Cello', 50)\n",
      "(143, 'Pencil', 30, 'Cello', 52)\n",
      "(144, 'Rubber', 40, 'Cello', 51)\n",
      "(141, 'Scale', 50, 'Cello', 90)\n"
     ]
    }
   ],
   "source": [
    "cursor.execute(\"select * from Shop where Manifacturer like 'C%'\")\n",
    "print(\"Items Manufacturer start from C:\\n\")\n",
    "res=cursor.fetchall()\n",
    "for x in res:\n",
    "    print(x)"
   ]
  },
  {
   "cell_type": "code",
   "execution_count": 25,
   "id": "d241c7f4",
   "metadata": {},
   "outputs": [
    {
     "name": "stdout",
     "output_type": "stream",
     "text": [
      "2nd Most Expensive:\n",
      "\n",
      "(144, 'Rubber', 40, 'Cello', 51, 40)\n"
     ]
    }
   ],
   "source": [
    "cursor.execute(\"select * ,max(Price) from Shop where Price < (select max(Price) from Shop)\")\n",
    "print(\"2nd Most Expensive:\\n\")\n",
    "res=cursor.fetchall()\n",
    "for x in res:\n",
    "    print(x)"
   ]
  },
  {
   "cell_type": "code",
   "execution_count": 28,
   "id": "72e0a666",
   "metadata": {},
   "outputs": [
    {
     "name": "stdout",
     "output_type": "stream",
     "text": [
      "Price larger than average Price:\n",
      "\n",
      "(144, 'Rubber', 40, 'Cello', 51)\n",
      "(141, 'Scale', 50, 'Cello', 90)\n"
     ]
    }
   ],
   "source": [
    "cursor.execute(\"select * from Shop where Price > (select avg(Price) from Shop)\")\n",
    "print(\"Price larger than average Price:\\n\")\n",
    "res=cursor.fetchall()\n",
    "for x in res:\n",
    "    print(x)"
   ]
  },
  {
   "cell_type": "code",
   "execution_count": 29,
   "id": "0ad8454f",
   "metadata": {},
   "outputs": [
    {
     "name": "stdout",
     "output_type": "stream",
     "text": [
      "Connection Closed❌\n"
     ]
    }
   ],
   "source": [
    "cursor.close()\n",
    "print(\"Connection Closed❌\")"
   ]
  }
 ],
 "metadata": {
  "kernelspec": {
   "display_name": "Python 3 (ipykernel)",
   "language": "python",
   "name": "python3"
  },
  "language_info": {
   "codemirror_mode": {
    "name": "ipython",
    "version": 3
   },
   "file_extension": ".py",
   "mimetype": "text/x-python",
   "name": "python",
   "nbconvert_exporter": "python",
   "pygments_lexer": "ipython3",
   "version": "3.10.9"
  }
 },
 "nbformat": 4,
 "nbformat_minor": 5
}
