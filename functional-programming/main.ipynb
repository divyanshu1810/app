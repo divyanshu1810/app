{
 "cells": [
  {
   "cell_type": "code",
   "execution_count": 1,
   "metadata": {},
   "outputs": [
    {
     "data": {
      "text/plain": [
       "False"
      ]
     },
     "execution_count": 1,
     "metadata": {},
     "output_type": "execute_result"
    }
   ],
   "source": [
    "# lambda calculus\n",
    "(lambda x, y: x and y)(True, False)"
   ]
  },
  {
   "cell_type": "code",
   "execution_count": 2,
   "metadata": {},
   "outputs": [
    {
     "data": {
      "text/plain": [
       "12"
      ]
     },
     "execution_count": 2,
     "metadata": {},
     "output_type": "execute_result"
    }
   ],
   "source": [
    "(lambda x, y: x * y)(3, 4)"
   ]
  },
  {
   "cell_type": "code",
   "execution_count": 3,
   "metadata": {},
   "outputs": [
    {
     "data": {
      "text/plain": [
       "16.4042"
      ]
     },
     "execution_count": 3,
     "metadata": {},
     "output_type": "execute_result"
    }
   ],
   "source": [
    "metersToFeet = lambda x: x * 3.28084\n",
    "metersToFeet(5)"
   ]
  },
  {
   "cell_type": "code",
   "execution_count": 4,
   "metadata": {},
   "outputs": [
    {
     "data": {
      "text/plain": [
       "7"
      ]
     },
     "execution_count": 4,
     "metadata": {},
     "output_type": "execute_result"
    }
   ],
   "source": [
    "expr = lambda a, b: (lambda x: x + b)((lambda x: x ** 2)(a))\n",
    "expr(2, 3)"
   ]
  },
  {
   "cell_type": "code",
   "execution_count": 5,
   "metadata": {},
   "outputs": [
    {
     "data": {
      "text/plain": [
       "81"
      ]
     },
     "execution_count": 5,
     "metadata": {},
     "output_type": "execute_result"
    }
   ],
   "source": [
    "# passing and returning functions\n",
    "square = lambda x: x ** 2\n",
    "twice = lambda f: lambda x: f(f(x))\n",
    "\n",
    "quad = twice(square)\n",
    "quad(3)"
   ]
  },
  {
   "cell_type": "code",
   "execution_count": 6,
   "metadata": {},
   "outputs": [
    {
     "data": {
      "text/plain": [
       "45"
      ]
     },
     "execution_count": 6,
     "metadata": {},
     "output_type": "execute_result"
    }
   ],
   "source": [
    "# closure\n",
    "def multiplier_of(n):\n",
    "    def multiplier(number):\n",
    "        return number * n    \n",
    "    \n",
    "    return multiplier\n",
    "\n",
    "multiplywith5 = multiplier_of(5)\n",
    "multiplywith5(9)\n"
   ]
  },
  {
   "cell_type": "code",
   "execution_count": 7,
   "metadata": {},
   "outputs": [
    {
     "name": "stdout",
     "output_type": "stream",
     "text": [
      "7\n"
     ]
    }
   ],
   "source": [
    "import random\n",
    "\n",
    "def generate(n):\n",
    "    random_list = [random.randint(1, n) for i in range(n)]\n",
    "    \n",
    "    def choose():\n",
    "        return random.choice(random_list)\n",
    "    \n",
    "    return choose\n",
    "\n",
    "rng = generate(10)\n",
    "print(rng())"
   ]
  },
  {
   "cell_type": "code",
   "execution_count": 8,
   "metadata": {},
   "outputs": [
    {
     "name": "stdout",
     "output_type": "stream",
     "text": [
      "Khoor Zruog!\n"
     ]
    }
   ],
   "source": [
    "# map\n",
    "def encrpyt(char):\n",
    "    if char.isalpha():\n",
    "        return chr(ord(char) + 3)\n",
    "    \n",
    "    return char\n",
    "\n",
    "string = \"Hello World!\"\n",
    "encrypted_string = \"\".join(list(map(encrpyt, string)))\n",
    "print(encrypted_string)"
   ]
  },
  {
   "cell_type": "code",
   "execution_count": 9,
   "metadata": {},
   "outputs": [
    {
     "name": "stdout",
     "output_type": "stream",
     "text": [
      "Player 2 is more consistent\n"
     ]
    }
   ],
   "source": [
    "# reduce\n",
    "from functools import reduce\n",
    "from math import sqrt\n",
    "\n",
    "def standard_deviation(scores):\n",
    "    mean = sum(scores) / len(scores)\n",
    "    variance = reduce(lambda x, y: x + (y - mean) ** 2, scores, 0)\n",
    "    return sqrt(variance / len(scores))\n",
    "\n",
    "scores1 = [45, 38, 76, 23, 69]\n",
    "scores2 = [55, 42, 81, 35, 58]\n",
    "\n",
    "sd1 = standard_deviation(scores1)\n",
    "sd2 = standard_deviation(scores2)\n",
    "\n",
    "if sd1 < sd2:\n",
    "    print(\"Player 1 is more consistent\")\n",
    "elif sd1 > sd2:\n",
    "    print(\"Player 2 is more consistent\")\n",
    "else:\n",
    "    print(\"Both players are equally consistent\")\n"
   ]
  },
  {
   "cell_type": "code",
   "execution_count": 10,
   "metadata": {},
   "outputs": [
    {
     "name": "stdout",
     "output_type": "stream",
     "text": [
      "[[35, 45, 55, 65, 40], [50, 60, 70, 26, 55]]\n"
     ]
    }
   ],
   "source": [
    "# filter\n",
    "marks = [\n",
    "    [60, 70, 80, 90, 75],\n",
    "    [45, 50, 55, 60, 40],\n",
    "    [80, 85, 90, 95, 85],\n",
    "    [35, 45, 55, 65, 40],\n",
    "    [50, 60, 70, 26, 55]\n",
    "]\n",
    "\n",
    "def did_fail(subjects):\n",
    "    for subject in subjects:\n",
    "        if subject < 40:\n",
    "            return True\n",
    "    return False\n",
    "\n",
    "failed_students = list(filter(did_fail, marks))\n",
    "print(failed_students)\n"
   ]
  },
  {
   "cell_type": "code",
   "execution_count": 11,
   "metadata": {},
   "outputs": [
    {
     "name": "stdout",
     "output_type": "stream",
     "text": [
      "Number of tweets containing 'web': 8\n",
      "Number of tweets containing 'tool': 6\n"
     ]
    }
   ],
   "source": [
    "# map, reduce, filter\n",
    "from functools import reduce\n",
    "\n",
    "tweets = [\n",
    "    \"Bun.js is a lightweight and fast JavaScript library for building user interfaces. It's perfect for modern web apps that need to be performant #bunjs #javascript\",  \n",
    "    \"Zod is a TypeScript-first schema validation tool. It provides a simple and intuitive way to validate and sanitize data #zod #typescript\",  \n",
    "    \"TypeScript is the future of web development. Its strong typing system and advanced features make it a great choice for building complex applications #typescript #webdev\",  \n",
    "    \"Lighthouse is an amazing tool for auditing and improving the performance, accessibility, and best practices of your web app. Highly recommend using it! #lighthouse #webperf\",  \n",
    "    \"Netlify is a game-changer for web development. Its continuous deployment and integration features make deploying and managing web apps a breeze #netlify #webdev\",  \n",
    "    \"ESLint is a powerful tool for enforcing code style and catching errors in your JavaScript code. It helps ensure consistency and maintainability in your codebase #eslint #javascript\",  \n",
    "    \"Webpack is the go-to tool for bundling and optimizing JavaScript code. Its modular architecture and plugin system make it incredibly flexible and customizable #webpack #javascript\",  \n",
    "    \"Gatsby is a great tool for building fast, SEO-friendly, and dynamic web apps. Its plugin system and rich ecosystem make it easy to add new features and integrations #gatsby #webdev\",  \n",
    "    \"Figma is a fantastic tool for designing and prototyping web interfaces. Its collaborative features and intuitive interface make it a great choice for teams #figma #webdesign\",  \n",
    "    \"Tailwind CSS is an incredibly useful utility-first CSS framework. It allows you to quickly build beautiful and responsive web interfaces without writing custom CSS #tailwindcss #webdesign\"\n",
    "]\n",
    "\n",
    "\n",
    "trending_topics = [\"web\", \"tool\"]\n",
    "\n",
    "def contains_topic(tweet, topic):\n",
    "    return topic in tweet.lower()\n",
    "\n",
    "def count_tweets_with_topic(total, tweet):\n",
    "    if tweet:\n",
    "        return total + 1\n",
    "    else:\n",
    "        return total\n",
    "\n",
    "filtered_tweets = list(filter(lambda tweet: contains_topic(tweet, trending_topics[0]) or contains_topic(tweet, trending_topics[1]), tweets))\n",
    "\n",
    "counts = []\n",
    "for topic in trending_topics:\n",
    "    topic_tweets = list(map(lambda tweet: contains_topic(tweet, topic), filtered_tweets))\n",
    "    topic_count = reduce(count_tweets_with_topic, topic_tweets, 0)\n",
    "    counts.append(topic_count)\n",
    "\n",
    "print(f\"Number of tweets containing '{trending_topics[0]}': {counts[0]}\")\n",
    "print(f\"Number of tweets containing '{trending_topics[1]}': {counts[1]}\")"
   ]
  },
  {
   "cell_type": "code",
   "execution_count": 12,
   "metadata": {},
   "outputs": [
    {
     "name": "stdout",
     "output_type": "stream",
     "text": [
      "[2, 1, 0, 1]\n"
     ]
    }
   ],
   "source": [
    "from functools import reduce\n",
    "\n",
    "def get_top_scorers(scores):\n",
    "    subject_scores = list(map(list, zip(*scores)))\n",
    "    top_scorers = reduce(lambda acc, x: acc + [x.index(max(x))], subject_scores, [])\n",
    "    \n",
    "    return top_scorers\n",
    "\n",
    "scores = [\n",
    "    [90, 85, 95, 80],\n",
    "    [80, 95, 70, 90],\n",
    "    [100, 80, 90, 85],\n",
    "]\n",
    "\n",
    "top_scorers = get_top_scorers(scores)\n",
    "print(top_scorers)\n"
   ]
  },
  {
   "cell_type": "code",
   "execution_count": 13,
   "metadata": {},
   "outputs": [
    {
     "name": "stdout",
     "output_type": "stream",
     "text": [
      "Average: 74.67, Highest: 102\n",
      "Average: 56.0, Highest: 78\n",
      "Average: 77.33, Highest: 98\n",
      "Average: 67.0, Highest: 89\n",
      "Average: 82.0, Highest: 90\n"
     ]
    }
   ],
   "source": [
    "# compute average and highest score\n",
    "scores = [[99, 102, 23], [34, 56, 78], [98, 78, 56], [45, 67, 89], [67, 89, 90]]\n",
    "\n",
    "avg_highest_scores = list(map(lambda score: (round(sum(score) / len(score), 2), max(score)), scores))\n",
    "\n",
    "for avg, highest in avg_highest_scores:\n",
    "    print(f\"Average: {avg}, Highest: {highest}\")"
   ]
  },
  {
   "cell_type": "code",
   "execution_count": 14,
   "metadata": {},
   "outputs": [
    {
     "name": "stdout",
     "output_type": "stream",
     "text": [
      "18446744073709551615\n"
     ]
    }
   ],
   "source": [
    "from functools import reduce\n",
    "grains = list(map(lambda x: 2 ** x, range(64)))\n",
    "\n",
    "total_grains = reduce(lambda x, y: x + y, grains)\n",
    "print(total_grains)"
   ]
  }
 ],
 "metadata": {
  "kernelspec": {
   "display_name": "venv",
   "language": "python",
   "name": "python3"
  },
  "language_info": {
   "codemirror_mode": {
    "name": "ipython",
    "version": 3
   },
   "file_extension": ".py",
   "mimetype": "text/x-python",
   "name": "python",
   "nbconvert_exporter": "python",
   "pygments_lexer": "ipython3",
   "version": "3.8.10"
  },
  "orig_nbformat": 4
 },
 "nbformat": 4,
 "nbformat_minor": 2
}
